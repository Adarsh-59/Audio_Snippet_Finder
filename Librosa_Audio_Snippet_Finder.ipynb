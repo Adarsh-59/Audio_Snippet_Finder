{
  "nbformat": 4,
  "nbformat_minor": 0,
  "metadata": {
    "colab": {
      "provenance": [],
      "authorship_tag": "ABX9TyOuasehah9A8a4/TLnZAeh0",
      "include_colab_link": true
    },
    "kernelspec": {
      "name": "python3",
      "display_name": "Python 3"
    },
    "language_info": {
      "name": "python"
    }
  },
  "cells": [
    {
      "cell_type": "markdown",
      "metadata": {
        "id": "view-in-github",
        "colab_type": "text"
      },
      "source": [
        "<a href=\"https://colab.research.google.com/github/Adarsh-59/Audio_Snippet_Finder/blob/main/Librosa_Audio_Snippet_Finder.ipynb\" target=\"_parent\"><img src=\"https://colab.research.google.com/assets/colab-badge.svg\" alt=\"Open In Colab\"/></a>"
      ]
    },
    {
      "cell_type": "code",
      "execution_count": 1,
      "metadata": {
        "id": "gCIKuJ4Fh1Ah"
      },
      "outputs": [],
      "source": [
        "import librosa as lib\n",
        "import numpy as np"
      ]
    },
    {
      "cell_type": "code",
      "source": [
        "audio_file_path = \"Take Me To Church.mp3\"\n",
        "snippet_path = \"2 27 31.mp4\""
      ],
      "metadata": {
        "id": "EF-2gOL4h7k7"
      },
      "execution_count": 11,
      "outputs": []
    },
    {
      "cell_type": "code",
      "source": [
        "def Audio_snippet_finder(audio_file_path, snippet_path):\n",
        "    sample_rate = 100;\n",
        "    audio, sr = lib.load(audio_file_path, sr=sample_rate)\n",
        "    snippet, sr = lib.load(snippet_path, sr=sample_rate)\n",
        "\n",
        "    cc = np.correlate(audio, snippet) #Cross-correlation between audio and snippet\n",
        "\n",
        "    idx = np.where(cc==np.argmax(cc), cc, np.argmax(cc))[0]\n",
        "\n",
        "    hr = (int)(idx/360000)\n",
        "    idx -= hr*360000\n",
        "\n",
        "    min = (int)(idx/6000)\n",
        "    idx -= min*6000\n",
        "\n",
        "    sec = (int)(idx/100)\n",
        "    idx -= sec*100\n",
        "\n",
        "    mili = int(idx)\n",
        "\n",
        "    return hr, min, sec, mili"
      ],
      "metadata": {
        "id": "-mEK_WrBiBZ_"
      },
      "execution_count": 12,
      "outputs": []
    },
    {
      "cell_type": "code",
      "source": [
        "hr, min, sec, mili = Audio_snippet_finder(audio_file_path, snippet_path)"
      ],
      "metadata": {
        "colab": {
          "base_uri": "https://localhost:8080/"
        },
        "id": "04BquNvPiDC7",
        "outputId": "cca61157-ca40-4109-c17f-30b27e16b511"
      },
      "execution_count": 13,
      "outputs": [
        {
          "output_type": "stream",
          "name": "stderr",
          "text": [
            "<ipython-input-12-814de3c619dc>:4: UserWarning: PySoundFile failed. Trying audioread instead.\n",
            "  snippet, sr = lib.load(snippet_path, sr=sample_rate)\n",
            "/usr/local/lib/python3.10/dist-packages/librosa/core/audio.py:184: FutureWarning: librosa.core.audio.__audioread_load\n",
            "\tDeprecated as of librosa version 0.10.0.\n",
            "\tIt will be removed in librosa version 1.0.\n",
            "  y, sr_native = __audioread_load(path, offset, duration, dtype)\n"
          ]
        }
      ]
    },
    {
      "cell_type": "code",
      "source": [
        "print(f\"{hr:02d}:{min:02d}:{sec:02d}.{mili:02d}\")"
      ],
      "metadata": {
        "colab": {
          "base_uri": "https://localhost:8080/"
        },
        "id": "PRn2q7hQiHj_",
        "outputId": "e9b8beca-c3ad-4758-8ceb-90060d159f16"
      },
      "execution_count": 14,
      "outputs": [
        {
          "output_type": "stream",
          "name": "stdout",
          "text": [
            "00:02:27.31\n"
          ]
        }
      ]
    },
    {
      "cell_type": "code",
      "source": [],
      "metadata": {
        "id": "flJQgAzCiJCE"
      },
      "execution_count": null,
      "outputs": []
    }
  ]
}